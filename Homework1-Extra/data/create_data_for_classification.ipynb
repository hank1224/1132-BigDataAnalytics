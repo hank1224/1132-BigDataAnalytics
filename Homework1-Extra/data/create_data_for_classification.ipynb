{
 "cells": [
  {
   "cell_type": "markdown",
   "metadata": {},
   "source": [
    "## Creating the data for classification\n",
    "\n",
    "With the following code, you can create the data for classification yourself! \n",
    "You can decide which features you want to \"one-hot-encode\", and which crime types you want to use.\n",
    "Try the code if you want to test bigger parts of the origial data set"
   ]
  },
  {
   "cell_type": "markdown",
   "metadata": {},
   "source": [
    "### 1. Read in your cleaned data"
   ]
  },
  {
   "cell_type": "code",
   "execution_count": 1,
   "metadata": {},
   "outputs": [],
   "source": [
    "import pandas as pd\n",
    "\n",
    "df = pd.read_csv(\"clean_crime.csv\")"
   ]
  },
  {
   "cell_type": "markdown",
   "metadata": {},
   "source": [
    "### 2. One hot encode or drop categorial data "
   ]
  },
  {
   "cell_type": "code",
   "execution_count": 2,
   "metadata": {},
   "outputs": [
    {
     "data": {
      "text/plain": [
       "OFFENSE_CODE_GROUP     object\n",
       "YEAR                    int64\n",
       "MONTH                   int64\n",
       "HOUR                    int64\n",
       "Lat                   float64\n",
       "                       ...   \n",
       "REPORTING_AREA_97        bool\n",
       "REPORTING_AREA_98        bool\n",
       "REPORTING_AREA_99        bool\n",
       "SHOOTING_N               bool\n",
       "SHOOTING_Y               bool\n",
       "Length: 774, dtype: object"
      ]
     },
     "execution_count": 2,
     "metadata": {},
     "output_type": "execute_result"
    }
   ],
   "source": [
    "#create a list here, with the crimes you want to classify\n",
    "crime_classification = [\n",
    "    \"Ballistics\", \n",
    "    \"License Violation\",\n",
    "    \"Liquor Violation\",\n",
    "    \"Fire Related Reports\"] \n",
    "\n",
    "# slice wanted crime\n",
    "df_ml = df[df.OFFENSE_CODE_GROUP.isin(crime_classification)]\n",
    "\n",
    "# drop columns we will not use as feature\n",
    "df_ml = df_ml.drop([\"INCIDENT_NUMBER\", \"OCCURRED_ON_DATE\", \"OFFENSE_DESCRIPTION\", \"OFFENSE_CODE\", \"STREET\"], axis=1)\n",
    "\n",
    "# one hot encode categorial data\n",
    "df_ml_hot = pd.get_dummies(df_ml, columns=[\"DAY_OF_WEEK\",\"DISTRICT\",\"REPORTING_AREA\", \"SHOOTING\"])\n",
    "\n",
    "# make sure all dtype are numercial, except for the y-labels\n",
    "df_ml_hot.dtypes"
   ]
  },
  {
   "cell_type": "markdown",
   "metadata": {},
   "source": [
    "### 3. Mix and split one-hot-encoded data into training set and test set"
   ]
  },
  {
   "cell_type": "code",
   "execution_count": 3,
   "metadata": {},
   "outputs": [
    {
     "data": {
      "text/plain": [
       "(4328, 1083)"
      ]
     },
     "execution_count": 3,
     "metadata": {},
     "output_type": "execute_result"
    }
   ],
   "source": [
    "# mix/shuffle values\n",
    "df_ml_hot = df_ml_hot.sample(frac=1)\n",
    "\n",
    "# split 80% into training set\n",
    "split_ratio = 0.8\n",
    "train_set = df_ml_hot[:int(split_ratio*len(df_ml_hot.index))]\n",
    "\n",
    "# split the rest into testing set\n",
    "test_set = df_ml_hot[int(split_ratio*len(df_ml_hot.index)):]\n",
    "\n",
    "len(train_set.index), len(test_set.index)"
   ]
  },
  {
   "cell_type": "markdown",
   "metadata": {},
   "source": [
    "### 4. Split treaining and test set in sample labels(y) and samples(X)"
   ]
  },
  {
   "cell_type": "code",
   "execution_count": 4,
   "metadata": {},
   "outputs": [],
   "source": [
    "# remove the Offense code group into from training samples (X_train), and set as Y_train\n",
    "X_train = train_set.drop(\"OFFENSE_CODE_GROUP\", axis=1) \n",
    "y_train = train_set[\"OFFENSE_CODE_GROUP\"]\n",
    "\n",
    "assert len(X_train.index) == len(y_train.index)\n",
    "\n",
    "# remove the Offense code group into from testing samples (X_test), and set as Y_test\n",
    "X_test = test_set.drop(\"OFFENSE_CODE_GROUP\", axis=1)\n",
    "y_test = test_set[\"OFFENSE_CODE_GROUP\"]\n",
    "\n",
    "assert len(X_test.index) == len(y_test.index)"
   ]
  },
  {
   "cell_type": "markdown",
   "metadata": {},
   "source": [
    "### 5. Save the files  "
   ]
  },
  {
   "cell_type": "code",
   "execution_count": 5,
   "metadata": {},
   "outputs": [],
   "source": [
    "X_train.to_csv(\"crime_training_data.csv\", index=False)\n",
    "y_train.to_csv(\"crime_training_labels.csv\", index=False)\n",
    "X_test.to_csv(\"crime_test_data.csv\", index=False)\n",
    "y_test.to_csv(\"crime_test_labels.csv\", index=False)"
   ]
  }
 ],
 "metadata": {
  "kernelspec": {
   "display_name": "pytorch",
   "language": "python",
   "name": "python3"
  },
  "language_info": {
   "codemirror_mode": {
    "name": "ipython",
    "version": 3
   },
   "file_extension": ".py",
   "mimetype": "text/x-python",
   "name": "python",
   "nbconvert_exporter": "python",
   "pygments_lexer": "ipython3",
   "version": "3.11.10"
  }
 },
 "nbformat": 4,
 "nbformat_minor": 4
}
