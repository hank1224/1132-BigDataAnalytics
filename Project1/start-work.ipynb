{
 "cells": [
  {
   "cell_type": "code",
   "execution_count": 1,
   "metadata": {},
   "outputs": [],
   "source": [
    "import pandas as pd\n",
    "from pymongo import MongoClient\n",
    "from IPython.display import display  # 用於在 Notebook 中更美觀地顯示 DataFrame"
   ]
  },
  {
   "cell_type": "code",
   "execution_count": 2,
   "metadata": {},
   "outputs": [
    {
     "name": "stdout",
     "output_type": "stream",
     "text": [
      "成功連線到 MongoDB 資料庫 'mydatabase'，Collection: 'reviews'\n"
     ]
    }
   ],
   "source": [
    "# MongoDB 連線資訊 (請替換成你的實際資訊)\n",
    "mongo_uri = 'mongodb://localhost:27017/'  # 預設本機連線\n",
    "database_name = 'mydatabase'         # 你的資料庫名稱\n",
    "collection_name = 'reviews'        # 你的 Collection 名稱\n",
    "\n",
    "try:\n",
    "    client = MongoClient(mongo_uri)\n",
    "    db = client[database_name]\n",
    "    collection = db[collection_name]\n",
    "    print(f\"成功連線到 MongoDB 資料庫 '{database_name}'，Collection: '{collection_name}'\")\n",
    "except Exception as e:\n",
    "    print(f\"連線 MongoDB 失敗: {e}\")\n",
    "    exit()"
   ]
  },
  {
   "cell_type": "code",
   "execution_count": 3,
   "metadata": {},
   "outputs": [
    {
     "name": "stdout",
     "output_type": "stream",
     "text": [
      "\n",
      "--- 資料庫和 Collection 概覽 ---\n",
      "資料庫列表: ['admin', 'config', 'local', 'mydatabase']\n",
      "Collection 列表: ['reviews']\n",
      "\n",
      "Collection 'reviews' 中的文件總數: 568454\n"
     ]
    }
   ],
   "source": [
    "print(\"\\n--- 資料庫和 Collection 概覽 ---\")\n",
    "\n",
    "# 顯示資料庫名稱列表\n",
    "database_names = client.list_database_names()\n",
    "print(\"資料庫列表:\", database_names)\n",
    "\n",
    "# 顯示 Collection 名稱列表 (在當前資料庫中)\n",
    "collection_names = db.list_collection_names()\n",
    "print(\"Collection 列表:\", collection_names)\n",
    "\n",
    "# 顯示 Collection 文件數量\n",
    "document_count = collection.count_documents({})\n",
    "print(f\"\\nCollection '{collection_name}' 中的文件總數: {document_count}\")"
   ]
  },
  {
   "cell_type": "code",
   "execution_count": 4,
   "metadata": {},
   "outputs": [
    {
     "name": "stdout",
     "output_type": "stream",
     "text": [
      "\n",
      "--- 檢視前 5 筆資料 (確認資料結構) ---\n"
     ]
    },
    {
     "data": {
      "application/vnd.microsoft.datawrangler.viewer.v0+json": {
       "columns": [
        {
         "name": "index",
         "rawType": "int64",
         "type": "integer"
        },
        {
         "name": "_id",
         "rawType": "object",
         "type": "unknown"
        },
        {
         "name": "ProductId",
         "rawType": "object",
         "type": "string"
        },
        {
         "name": "ProductInfo",
         "rawType": "object",
         "type": "unknown"
        },
        {
         "name": "UserId",
         "rawType": "object",
         "type": "string"
        },
        {
         "name": "ProfileName",
         "rawType": "object",
         "type": "string"
        },
        {
         "name": "HelpfulnessNumerator",
         "rawType": "int64",
         "type": "integer"
        },
        {
         "name": "HelpfulnessDenominator",
         "rawType": "int64",
         "type": "integer"
        },
        {
         "name": "Score",
         "rawType": "int64",
         "type": "integer"
        },
        {
         "name": "Time",
         "rawType": "int64",
         "type": "integer"
        },
        {
         "name": "Summary",
         "rawType": "object",
         "type": "string"
        },
        {
         "name": "Text",
         "rawType": "object",
         "type": "string"
        },
        {
         "name": "Id",
         "rawType": "int64",
         "type": "integer"
        }
       ],
       "conversionMethod": "pd.DataFrame",
       "ref": "c07690c7-4376-4169-b9d8-24782921d49f",
       "rows": [
        [
         "0",
         "67d8e92ae0757cc683660037",
         "B001E4KFG0",
         "{'URL': 'https://www.amazon.com/dp/B001E4KFG0'}",
         "A3SGXH7AUHU8GW",
         "delmartian",
         "1",
         "1",
         "5",
         "1303862400",
         "Good Quality Dog Food",
         "I have bought several of the Vitality canned dog food products and have found them all to be of good quality. The product looks more like a stew than a processed meat and it smells better. My Labrador is finicky and she appreciates this product better than  most.",
         "1"
        ],
        [
         "1",
         "67d8e92ae0757cc683660038",
         "B00813GRG4",
         "{'URL': 'https://www.amazon.com/dp/B00813GRG4'}",
         "A1D87F6ZCVE5NK",
         "dll pa",
         "0",
         "0",
         "1",
         "1346976000",
         "Not as Advertised",
         "Product arrived labeled as Jumbo Salted Peanuts...the peanuts were actually small sized unsalted. Not sure if this was an error or if the vendor intended to represent the product as \"Jumbo\".",
         "2"
        ],
        [
         "2",
         "67d8e92ae0757cc683660039",
         "B000LQOCH0",
         "{'URL': 'https://www.amazon.com/dp/B000LQOCH0'}",
         "ABXLMWJIXXAIN",
         "Natalia Corres \"Natalia Corres\"",
         "1",
         "1",
         "4",
         "1219017600",
         "\"Delight\" says it all",
         "This is a confection that has been around a few centuries.  It is a light, pillowy citrus gelatin with nuts - in this case Filberts. And it is cut into tiny squares and then liberally coated with powdered sugar.  And it is a tiny mouthful of heaven.  Not too chewy, and very flavorful.  I highly recommend this yummy treat.  If you are familiar with the story of C.S. Lewis' \"The Lion, The Witch, and The Wardrobe\" - this is the treat that seduces Edmund into selling out his Brother and Sisters to the Witch.",
         "3"
        ],
        [
         "3",
         "67d8e92ae0757cc68366003a",
         "B000UA0QIQ",
         "{'URL': 'https://www.amazon.com/dp/B000UA0QIQ'}",
         "A395BORC6FGVXV",
         "Karl",
         "3",
         "3",
         "2",
         "1307923200",
         "Cough Medicine",
         "If you are looking for the secret ingredient in Robitussin I believe I have found it.  I got this in addition to the Root Beer Extract I ordered (which was good) and made some cherry soda.  The flavor is very medicinal.",
         "4"
        ],
        [
         "4",
         "67d8e92ae0757cc68366003b",
         "B006K2ZZ7K",
         "{'URL': 'https://www.amazon.com/dp/B006K2ZZ7K'}",
         "A1UQRSCLF8GW1T",
         "Michael D. Bigham \"M. Wassir\"",
         "0",
         "0",
         "5",
         "1350777600",
         "Great taffy",
         "Great taffy at a great price.  There was a wide assortment of yummy taffy.  Delivery was very quick.  If your a taffy lover, this is a deal.",
         "5"
        ]
       ],
       "shape": {
        "columns": 12,
        "rows": 5
       }
      },
      "text/html": [
       "<div>\n",
       "<style scoped>\n",
       "    .dataframe tbody tr th:only-of-type {\n",
       "        vertical-align: middle;\n",
       "    }\n",
       "\n",
       "    .dataframe tbody tr th {\n",
       "        vertical-align: top;\n",
       "    }\n",
       "\n",
       "    .dataframe thead th {\n",
       "        text-align: right;\n",
       "    }\n",
       "</style>\n",
       "<table border=\"1\" class=\"dataframe\">\n",
       "  <thead>\n",
       "    <tr style=\"text-align: right;\">\n",
       "      <th></th>\n",
       "      <th>_id</th>\n",
       "      <th>ProductId</th>\n",
       "      <th>ProductInfo</th>\n",
       "      <th>UserId</th>\n",
       "      <th>ProfileName</th>\n",
       "      <th>HelpfulnessNumerator</th>\n",
       "      <th>HelpfulnessDenominator</th>\n",
       "      <th>Score</th>\n",
       "      <th>Time</th>\n",
       "      <th>Summary</th>\n",
       "      <th>Text</th>\n",
       "      <th>Id</th>\n",
       "    </tr>\n",
       "  </thead>\n",
       "  <tbody>\n",
       "    <tr>\n",
       "      <th>0</th>\n",
       "      <td>67d8e92ae0757cc683660037</td>\n",
       "      <td>B001E4KFG0</td>\n",
       "      <td>{'URL': 'https://www.amazon.com/dp/B001E4KFG0'}</td>\n",
       "      <td>A3SGXH7AUHU8GW</td>\n",
       "      <td>delmartian</td>\n",
       "      <td>1</td>\n",
       "      <td>1</td>\n",
       "      <td>5</td>\n",
       "      <td>1303862400</td>\n",
       "      <td>Good Quality Dog Food</td>\n",
       "      <td>I have bought several of the Vitality canned d...</td>\n",
       "      <td>1</td>\n",
       "    </tr>\n",
       "    <tr>\n",
       "      <th>1</th>\n",
       "      <td>67d8e92ae0757cc683660038</td>\n",
       "      <td>B00813GRG4</td>\n",
       "      <td>{'URL': 'https://www.amazon.com/dp/B00813GRG4'}</td>\n",
       "      <td>A1D87F6ZCVE5NK</td>\n",
       "      <td>dll pa</td>\n",
       "      <td>0</td>\n",
       "      <td>0</td>\n",
       "      <td>1</td>\n",
       "      <td>1346976000</td>\n",
       "      <td>Not as Advertised</td>\n",
       "      <td>Product arrived labeled as Jumbo Salted Peanut...</td>\n",
       "      <td>2</td>\n",
       "    </tr>\n",
       "    <tr>\n",
       "      <th>2</th>\n",
       "      <td>67d8e92ae0757cc683660039</td>\n",
       "      <td>B000LQOCH0</td>\n",
       "      <td>{'URL': 'https://www.amazon.com/dp/B000LQOCH0'}</td>\n",
       "      <td>ABXLMWJIXXAIN</td>\n",
       "      <td>Natalia Corres \"Natalia Corres\"</td>\n",
       "      <td>1</td>\n",
       "      <td>1</td>\n",
       "      <td>4</td>\n",
       "      <td>1219017600</td>\n",
       "      <td>\"Delight\" says it all</td>\n",
       "      <td>This is a confection that has been around a fe...</td>\n",
       "      <td>3</td>\n",
       "    </tr>\n",
       "    <tr>\n",
       "      <th>3</th>\n",
       "      <td>67d8e92ae0757cc68366003a</td>\n",
       "      <td>B000UA0QIQ</td>\n",
       "      <td>{'URL': 'https://www.amazon.com/dp/B000UA0QIQ'}</td>\n",
       "      <td>A395BORC6FGVXV</td>\n",
       "      <td>Karl</td>\n",
       "      <td>3</td>\n",
       "      <td>3</td>\n",
       "      <td>2</td>\n",
       "      <td>1307923200</td>\n",
       "      <td>Cough Medicine</td>\n",
       "      <td>If you are looking for the secret ingredient i...</td>\n",
       "      <td>4</td>\n",
       "    </tr>\n",
       "    <tr>\n",
       "      <th>4</th>\n",
       "      <td>67d8e92ae0757cc68366003b</td>\n",
       "      <td>B006K2ZZ7K</td>\n",
       "      <td>{'URL': 'https://www.amazon.com/dp/B006K2ZZ7K'}</td>\n",
       "      <td>A1UQRSCLF8GW1T</td>\n",
       "      <td>Michael D. Bigham \"M. Wassir\"</td>\n",
       "      <td>0</td>\n",
       "      <td>0</td>\n",
       "      <td>5</td>\n",
       "      <td>1350777600</td>\n",
       "      <td>Great taffy</td>\n",
       "      <td>Great taffy at a great price.  There was a wid...</td>\n",
       "      <td>5</td>\n",
       "    </tr>\n",
       "  </tbody>\n",
       "</table>\n",
       "</div>"
      ],
      "text/plain": [
       "                        _id   ProductId  \\\n",
       "0  67d8e92ae0757cc683660037  B001E4KFG0   \n",
       "1  67d8e92ae0757cc683660038  B00813GRG4   \n",
       "2  67d8e92ae0757cc683660039  B000LQOCH0   \n",
       "3  67d8e92ae0757cc68366003a  B000UA0QIQ   \n",
       "4  67d8e92ae0757cc68366003b  B006K2ZZ7K   \n",
       "\n",
       "                                       ProductInfo          UserId  \\\n",
       "0  {'URL': 'https://www.amazon.com/dp/B001E4KFG0'}  A3SGXH7AUHU8GW   \n",
       "1  {'URL': 'https://www.amazon.com/dp/B00813GRG4'}  A1D87F6ZCVE5NK   \n",
       "2  {'URL': 'https://www.amazon.com/dp/B000LQOCH0'}   ABXLMWJIXXAIN   \n",
       "3  {'URL': 'https://www.amazon.com/dp/B000UA0QIQ'}  A395BORC6FGVXV   \n",
       "4  {'URL': 'https://www.amazon.com/dp/B006K2ZZ7K'}  A1UQRSCLF8GW1T   \n",
       "\n",
       "                       ProfileName  HelpfulnessNumerator  \\\n",
       "0                       delmartian                     1   \n",
       "1                           dll pa                     0   \n",
       "2  Natalia Corres \"Natalia Corres\"                     1   \n",
       "3                             Karl                     3   \n",
       "4    Michael D. Bigham \"M. Wassir\"                     0   \n",
       "\n",
       "   HelpfulnessDenominator  Score        Time                Summary  \\\n",
       "0                       1      5  1303862400  Good Quality Dog Food   \n",
       "1                       0      1  1346976000      Not as Advertised   \n",
       "2                       1      4  1219017600  \"Delight\" says it all   \n",
       "3                       3      2  1307923200         Cough Medicine   \n",
       "4                       0      5  1350777600            Great taffy   \n",
       "\n",
       "                                                Text  Id  \n",
       "0  I have bought several of the Vitality canned d...   1  \n",
       "1  Product arrived labeled as Jumbo Salted Peanut...   2  \n",
       "2  This is a confection that has been around a fe...   3  \n",
       "3  If you are looking for the secret ingredient i...   4  \n",
       "4  Great taffy at a great price.  There was a wid...   5  "
      ]
     },
     "metadata": {},
     "output_type": "display_data"
    }
   ],
   "source": [
    "print(\"\\n--- 檢視前 5 筆資料 (確認資料結構) ---\")\n",
    "\n",
    "# 從 MongoDB 查詢前 5 筆資料\n",
    "cursor = collection.find().limit(5)\n",
    "sample_data = list(cursor)\n",
    "\n",
    "# 使用 pandas DataFrame 顯示，更易於閱讀\n",
    "df_sample = pd.DataFrame(sample_data)\n",
    "display(df_sample)"
   ]
  },
  {
   "cell_type": "code",
   "execution_count": 5,
   "metadata": {},
   "outputs": [
    {
     "name": "stdout",
     "output_type": "stream",
     "text": [
      "\n",
      "--- 基本資料分析範例 ---\n",
      "\n",
      "5.1. 評分 (Score) 分布:\n",
      "Score\n",
      "1    1\n",
      "2    1\n",
      "4    1\n",
      "5    2\n",
      "Name: count, dtype: int64\n",
      "\n",
      "5.2. 平均評分: 3.40\n",
      "\n",
      "5.3. 評論最多的前 10 個 ProductId:\n",
      "ProductId\n",
      "B001E4KFG0    1\n",
      "B00813GRG4    1\n",
      "B000LQOCH0    1\n",
      "B000UA0QIQ    1\n",
      "B006K2ZZ7K    1\n",
      "Name: count, dtype: int64\n",
      "\n",
      "5.4. 評論最多的前 10 個 UserId:\n",
      "UserId\n",
      "A3SGXH7AUHU8GW    1\n",
      "A1D87F6ZCVE5NK    1\n",
      "ABXLMWJIXXAIN     1\n",
      "A395BORC6FGVXV    1\n",
      "A1UQRSCLF8GW1T    1\n",
      "Name: count, dtype: int64\n"
     ]
    }
   ],
   "source": [
    "print(\"\\n--- 基本資料分析範例 ---\")\n",
    "\n",
    "# 5.1. 評分 (Score) 分布\n",
    "print(\"\\n5.1. 評分 (Score) 分布:\")\n",
    "score_counts = df_sample['Score'].value_counts().sort_index()\n",
    "print(score_counts)\n",
    "\n",
    "# 5.2. 平均評分\n",
    "print(f\"\\n5.2. 平均評分: {df_sample['Score'].mean():.2f}\")\n",
    "\n",
    "# 5.3. 顯示評論最多的前 10 個 ProductId\n",
    "print(\"\\n5.3. 評論最多的前 10 個 ProductId:\")\n",
    "product_review_counts = df_sample['ProductId'].value_counts().nlargest(10)\n",
    "print(product_review_counts)\n",
    "\n",
    "# 5.4. 顯示評論最多的前 10 個 UserId\n",
    "print(\"\\n5.4. 評論最多的前 10 個 UserId:\")\n",
    "user_review_counts = df_sample['UserId'].value_counts().nlargest(10)\n",
    "print(user_review_counts)"
   ]
  }
 ],
 "metadata": {
  "kernelspec": {
   "display_name": "pymongo",
   "language": "python",
   "name": "python3"
  },
  "language_info": {
   "codemirror_mode": {
    "name": "ipython",
    "version": 3
   },
   "file_extension": ".py",
   "mimetype": "text/x-python",
   "name": "python",
   "nbconvert_exporter": "python",
   "pygments_lexer": "ipython3",
   "version": "3.12.9"
  }
 },
 "nbformat": 4,
 "nbformat_minor": 2
}
