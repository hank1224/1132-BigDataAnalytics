{
 "cells": [
  {
   "cell_type": "code",
   "execution_count": 1,
   "metadata": {},
   "outputs": [],
   "source": [
    "import pandas as pd\n",
    "from pymongo import MongoClient\n",
    "from IPython.display import display  # 用於在 Notebook 中更美觀地顯示 DataFrame"
   ]
  },
  {
   "cell_type": "code",
   "execution_count": 2,
   "metadata": {},
   "outputs": [
    {
     "name": "stdout",
     "output_type": "stream",
     "text": [
      "成功連線到 MongoDB 資料庫 'mydatabase'，Collection: 'reviews'\n"
     ]
    }
   ],
   "source": [
    "# MongoDB 連線資訊 (請替換成你的實際資訊)\n",
    "mongo_uri = 'mongodb://localhost:27017/'  # 預設本機連線\n",
    "database_name = 'mydatabase'         # 你的資料庫名稱\n",
    "collection_name = 'reviews'        # 你的 Collection 名稱\n",
    "\n",
    "try:\n",
    "    client = MongoClient(mongo_uri)\n",
    "    db = client[database_name]\n",
    "    collection = db[collection_name]\n",
    "    print(f\"成功連線到 MongoDB 資料庫 '{database_name}'，Collection: '{collection_name}'\")\n",
    "except Exception as e:\n",
    "    print(f\"連線 MongoDB 失敗: {e}\")\n",
    "    exit()"
   ]
  },
  {
   "cell_type": "code",
   "execution_count": 3,
   "metadata": {},
   "outputs": [],
   "source": [
    "# print(\"\\n--- 資料庫和 Collection 概覽 ---\")\n",
    "\n",
    "# # 顯示資料庫名稱列表\n",
    "# database_names = client.list_database_names()\n",
    "# print(\"資料庫列表:\", database_names)\n",
    "\n",
    "# # 顯示 Collection 名稱列表 (在當前資料庫中)\n",
    "# collection_names = db.list_collection_names()\n",
    "# print(\"Collection 列表:\", collection_names)\n",
    "\n",
    "# # 顯示 Collection 文件數量\n",
    "# document_count = collection.count_documents({})\n",
    "# print(f\"\\nCollection '{collection_name}' 中的文件總數: {document_count}\")"
   ]
  },
  {
   "cell_type": "code",
   "execution_count": 4,
   "metadata": {},
   "outputs": [],
   "source": [
    "# # 使用 aggregation pipeline 計算不重複的 ProductId 的數量\n",
    "# pipeline = [\n",
    "#     {\"$group\": {\"_id\": \"$ProductId\"}},\n",
    "#     {\"$count\": \"total_products\"}\n",
    "# ]\n",
    "# result = list(collection.aggregate(pipeline))\n",
    "\n",
    "# if result:\n",
    "#     num_unique_products = result[0][\"total_products\"]\n",
    "# else:\n",
    "#     num_unique_products = 0\n",
    "\n",
    "# print(f\"這個 Collection 中共有 {num_unique_products} 種產品。\")"
   ]
  },
  {
   "cell_type": "markdown",
   "metadata": {},
   "source": [
    "## 提取資料庫中所有的 ProductId\n",
    "\n",
    "已確認非 B 開頭的 ProductId 的商品僅有 8 個，為求方便直接忽略。"
   ]
  },
  {
   "cell_type": "code",
   "execution_count": 5,
   "metadata": {},
   "outputs": [
    {
     "data": {
      "application/vnd.microsoft.datawrangler.viewer.v0+json": {
       "columns": [
        {
         "name": "index",
         "rawType": "int64",
         "type": "integer"
        },
        {
         "name": "ProductId",
         "rawType": "object",
         "type": "string"
        }
       ],
       "conversionMethod": "pd.DataFrame",
       "ref": "d91fb7fd-bd85-4bbb-893d-4e2398ec9bc4",
       "rows": [
        [
         "8",
         "B00002N8SM"
        ],
        [
         "9",
         "B00002NCJC"
        ],
        [
         "10",
         "B00002Z754"
        ],
        [
         "11",
         "B00004CI84"
        ],
        [
         "12",
         "B00004CXX9"
        ],
        [
         "13",
         "B00004RAMS"
        ],
        [
         "14",
         "B00004RAMV"
        ],
        [
         "15",
         "B00004RAMX"
        ],
        [
         "16",
         "B00004RAMY"
        ],
        [
         "17",
         "B00004RBDU"
        ],
        [
         "18",
         "B00004RBDW"
        ],
        [
         "19",
         "B00004RBDZ"
        ],
        [
         "20",
         "B00004RYGX"
        ],
        [
         "21",
         "B00004S1C5"
        ],
        [
         "22",
         "B00004S1C6"
        ],
        [
         "23",
         "B000052Y74"
        ],
        [
         "24",
         "B00005344V"
        ],
        [
         "25",
         "B0000535LF"
        ],
        [
         "26",
         "B0000537KC"
        ],
        [
         "27",
         "B00005C2JE"
        ],
        [
         "28",
         "B00005C2M2"
        ],
        [
         "29",
         "B00005C2M3"
        ],
        [
         "30",
         "B00005IX96"
        ],
        [
         "31",
         "B00005IX97"
        ],
        [
         "32",
         "B00005IX98"
        ],
        [
         "33",
         "B00005OMWO"
        ],
        [
         "34",
         "B00005OMWQ"
        ],
        [
         "35",
         "B00005U2FA"
        ],
        [
         "36",
         "B00005V3DC"
        ],
        [
         "37",
         "B0000643LM"
        ],
        [
         "38",
         "B0000691JF"
        ],
        [
         "39",
         "B000069KQW"
        ],
        [
         "40",
         "B00006FMLY"
        ],
        [
         "41",
         "B00006G930"
        ],
        [
         "42",
         "B00006IDJO"
        ],
        [
         "43",
         "B00006IDJU"
        ],
        [
         "44",
         "B00006IDK9"
        ],
        [
         "45",
         "B00006L2ZT"
        ],
        [
         "46",
         "B00006LL38"
        ],
        [
         "47",
         "B00008433V"
        ],
        [
         "48",
         "B000084346"
        ],
        [
         "49",
         "B00008434E"
        ],
        [
         "50",
         "B00008434F"
        ],
        [
         "51",
         "B00008437P"
        ],
        [
         "52",
         "B000084388"
        ],
        [
         "53",
         "B000084DVR"
        ],
        [
         "54",
         "B000084DWM"
        ],
        [
         "55",
         "B000084DXS"
        ],
        [
         "56",
         "B000084DYL"
        ],
        [
         "57",
         "B000084E1U"
        ]
       ],
       "shape": {
        "columns": 1,
        "rows": 74250
       }
      },
      "text/html": [
       "<div>\n",
       "<style scoped>\n",
       "    .dataframe tbody tr th:only-of-type {\n",
       "        vertical-align: middle;\n",
       "    }\n",
       "\n",
       "    .dataframe tbody tr th {\n",
       "        vertical-align: top;\n",
       "    }\n",
       "\n",
       "    .dataframe thead th {\n",
       "        text-align: right;\n",
       "    }\n",
       "</style>\n",
       "<table border=\"1\" class=\"dataframe\">\n",
       "  <thead>\n",
       "    <tr style=\"text-align: right;\">\n",
       "      <th></th>\n",
       "      <th>ProductId</th>\n",
       "    </tr>\n",
       "  </thead>\n",
       "  <tbody>\n",
       "    <tr>\n",
       "      <th>8</th>\n",
       "      <td>B00002N8SM</td>\n",
       "    </tr>\n",
       "    <tr>\n",
       "      <th>9</th>\n",
       "      <td>B00002NCJC</td>\n",
       "    </tr>\n",
       "    <tr>\n",
       "      <th>10</th>\n",
       "      <td>B00002Z754</td>\n",
       "    </tr>\n",
       "    <tr>\n",
       "      <th>11</th>\n",
       "      <td>B00004CI84</td>\n",
       "    </tr>\n",
       "    <tr>\n",
       "      <th>12</th>\n",
       "      <td>B00004CXX9</td>\n",
       "    </tr>\n",
       "    <tr>\n",
       "      <th>...</th>\n",
       "      <td>...</td>\n",
       "    </tr>\n",
       "    <tr>\n",
       "      <th>74253</th>\n",
       "      <td>B009UOFTUI</td>\n",
       "    </tr>\n",
       "    <tr>\n",
       "      <th>74254</th>\n",
       "      <td>B009UOFU20</td>\n",
       "    </tr>\n",
       "    <tr>\n",
       "      <th>74255</th>\n",
       "      <td>B009UUS05I</td>\n",
       "    </tr>\n",
       "    <tr>\n",
       "      <th>74256</th>\n",
       "      <td>B009WSNWC4</td>\n",
       "    </tr>\n",
       "    <tr>\n",
       "      <th>74257</th>\n",
       "      <td>B009WVB40S</td>\n",
       "    </tr>\n",
       "  </tbody>\n",
       "</table>\n",
       "<p>74250 rows × 1 columns</p>\n",
       "</div>"
      ],
      "text/plain": [
       "        ProductId\n",
       "8      B00002N8SM\n",
       "9      B00002NCJC\n",
       "10     B00002Z754\n",
       "11     B00004CI84\n",
       "12     B00004CXX9\n",
       "...           ...\n",
       "74253  B009UOFTUI\n",
       "74254  B009UOFU20\n",
       "74255  B009UUS05I\n",
       "74256  B009WSNWC4\n",
       "74257  B009WVB40S\n",
       "\n",
       "[74250 rows x 1 columns]"
      ]
     },
     "metadata": {},
     "output_type": "display_data"
    }
   ],
   "source": [
    "# 從 collection 中提取所有獨立的 ProductId\n",
    "unique_product_ids = collection.distinct(\"ProductId\")\n",
    "\n",
    "# 將其轉換為 Pandas DataFrame\n",
    "df_unique_product_ids = pd.DataFrame(unique_product_ids, columns=[\"ProductId\"])\n",
    "\n",
    "# 篩選出以 \"B\" 開頭的商品 ID\n",
    "df_b_products = df_unique_product_ids[df_unique_product_ids['ProductId'].str.startswith('B')]\n",
    "\n",
    "# 顯示篩選結果\n",
    "display(df_b_products)"
   ]
  },
  {
   "cell_type": "markdown",
   "metadata": {},
   "source": [
    "## Get Product Metadata for other datasets\n",
    "\n",
    "https://huggingface.co/datasets/McAuley-Lab/Amazon-Reviews-2023"
   ]
  },
  {
   "cell_type": "code",
   "execution_count": 6,
   "metadata": {},
   "outputs": [
    {
     "name": "stdout",
     "output_type": "stream",
     "text": [
      "檔案 'all_categories.txt' 已存在於 './'。\n"
     ]
    }
   ],
   "source": [
    "import urllib.request\n",
    "import os\n",
    "\n",
    "url = \"https://huggingface.co/datasets/McAuley-Lab/Amazon-Reviews-2023/resolve/main/all_categories.txt\"\n",
    "filename = \"all_categories.txt\"\n",
    "save_directory = \"./\"\n",
    "\n",
    "filepath = os.path.join(save_directory, filename)\n",
    "\n",
    "if not os.path.exists(filepath):\n",
    "    try:\n",
    "        urllib.request.urlretrieve(url, filepath)\n",
    "        print(f\"檔案 '{filename}' 下載完成，儲存於 '{save_directory}'。\")\n",
    "    except Exception as e:\n",
    "        print(f\"下載失敗: {e}\")\n",
    "else:\n",
    "    print(f\"檔案 '{filename}' 已存在於 '{save_directory}'。\")\n",
    "\n",
    "with open(filename, 'r', encoding='utf-8') as f:\n",
    "    categories = f.readlines() # 將每一行讀取到一個 list 中\n",
    "    # print(f\"檔案 '{filename}' 內容:\")\n",
    "    # for line in categories:\n",
    "    #     print(line.strip())  # 去掉行尾的換行符號"
   ]
  },
  {
   "cell_type": "code",
   "execution_count": null,
   "metadata": {},
   "outputs": [
    {
     "name": "stderr",
     "output_type": "stream",
     "text": [
      "/home/hank/miniconda3/envs/mongo/lib/python3.12/site-packages/tqdm/auto.py:21: TqdmWarning: IProgress not found. Please update jupyter and ipywidgets. See https://ipywidgets.readthedocs.io/en/stable/user_install.html\n",
      "  from .autonotebook import tqdm as notebook_tqdm\n"
     ]
    },
    {
     "name": "stdout",
     "output_type": "stream",
     "text": [
      "已載入 74250 個以 'B' 開頭的本地 ProductId 供比對。\n",
      "\n",
      "--- 開始處理類別: All_Beauty ---\n",
      "以串流模式載入資料集: raw_meta_All_Beauty...\n",
      "迭代串流資料集以查找匹配的 parent_asin...\n"
     ]
    },
    {
     "name": "stderr",
     "output_type": "stream",
     "text": [
      "處理 All_Beauty: 112590it [00:25, 4431.51it/s]\n"
     ]
    },
    {
     "name": "stdout",
     "output_type": "stream",
     "text": [
      "類別 'All_Beauty' 處理完成。此類別找到 3 個匹配的 ProductId。\n",
      "目前累積找到 3 個唯一的匹配 ProductId。\n",
      "已清理類別 'All_Beauty' 的資源。\n",
      "\n",
      "--- 開始處理類別: Toys_and_Games ---\n",
      "以串流模式載入資料集: raw_meta_Toys_and_Games...\n",
      "迭代串流資料集以查找匹配的 parent_asin...\n"
     ]
    },
    {
     "name": "stderr",
     "output_type": "stream",
     "text": [
      "處理 Toys_and_Games: 626672it [03:36, 3896.56it/s]'(ReadTimeoutError(\"HTTPSConnectionPool(host='huggingface.co', port=443): Read timed out. (read timeout=10)\"), '(Request ID: 39f0bfa0-14e1-44e4-b833-9d44f9a0c5b7)')' thrown while requesting GET https://huggingface.co/datasets/McAuley-Lab/Amazon-Reviews-2023/resolve/2b6d039ed471f2ba5fd2acb718bf33b0a7e5598e/raw/meta_categories/meta_Toys_and_Games.jsonl\n",
      "Retrying in 1s [Retry 1/5].\n",
      "處理 Toys_and_Games: 626672it [03:52, 3896.56it/s]'(ReadTimeoutError(\"HTTPSConnectionPool(host='huggingface.co', port=443): Read timed out. (read timeout=10)\"), '(Request ID: 1defe6b5-2cbf-414f-a663-72cdecf15c78)')' thrown while requesting GET https://huggingface.co/datasets/McAuley-Lab/Amazon-Reviews-2023/resolve/2b6d039ed471f2ba5fd2acb718bf33b0a7e5598e/raw/meta_categories/meta_Toys_and_Games.jsonl\n",
      "Retrying in 2s [Retry 2/5].\n",
      "處理 Toys_and_Games: 890874it [05:32, 2677.31it/s]\n"
     ]
    },
    {
     "name": "stdout",
     "output_type": "stream",
     "text": [
      "類別 'Toys_and_Games' 處理完成。此類別找到 24 個匹配的 ProductId。\n",
      "目前累積找到 27 個唯一的匹配 ProductId。\n",
      "已清理類別 'Toys_and_Games' 的資源。\n",
      "\n",
      "--- 開始處理類別: Cell_Phones_and_Accessories ---\n",
      "以串流模式載入資料集: raw_meta_Cell_Phones_and_Accessories...\n",
      "迭代串流資料集以查找匹配的 parent_asin...\n"
     ]
    },
    {
     "name": "stderr",
     "output_type": "stream",
     "text": [
      "處理 Cell_Phones_and_Accessories: 1288490it [06:54, 3109.22it/s]\n"
     ]
    },
    {
     "name": "stdout",
     "output_type": "stream",
     "text": [
      "類別 'Cell_Phones_and_Accessories' 處理完成。此類別找到 30 個匹配的 ProductId。\n",
      "目前累積找到 57 個唯一的匹配 ProductId。\n",
      "已清理類別 'Cell_Phones_and_Accessories' 的資源。\n",
      "\n",
      "--- 開始處理類別: Industrial_and_Scientific ---\n",
      "以串流模式載入資料集: raw_meta_Industrial_and_Scientific...\n",
      "迭代串流資料集以查找匹配的 parent_asin...\n"
     ]
    },
    {
     "name": "stderr",
     "output_type": "stream",
     "text": [
      "處理 Industrial_and_Scientific: 427564it [03:22, 2115.82it/s]\n"
     ]
    },
    {
     "name": "stdout",
     "output_type": "stream",
     "text": [
      "類別 'Industrial_and_Scientific' 處理完成。此類別找到 15 個匹配的 ProductId。\n",
      "目前累積找到 72 個唯一的匹配 ProductId。\n",
      "已清理類別 'Industrial_and_Scientific' 的資源。\n",
      "\n",
      "--- 開始處理類別: Gift_Cards ---\n",
      "以串流模式載入資料集: raw_meta_Gift_Cards...\n",
      "迭代串流資料集以查找匹配的 parent_asin...\n"
     ]
    },
    {
     "name": "stderr",
     "output_type": "stream",
     "text": [
      "處理 Gift_Cards: 1137it [00:00, 2749.55it/s]\n"
     ]
    },
    {
     "name": "stdout",
     "output_type": "stream",
     "text": [
      "類別 'Gift_Cards' 處理完成。此類別找到 0 個匹配的 ProductId。\n",
      "目前累積找到 72 個唯一的匹配 ProductId。\n",
      "已清理類別 'Gift_Cards' 的資源。\n",
      "\n",
      "--- 開始處理類別: Musical_Instruments ---\n",
      "以串流模式載入資料集: raw_meta_Musical_Instruments...\n",
      "迭代串流資料集以查找匹配的 parent_asin...\n"
     ]
    },
    {
     "name": "stderr",
     "output_type": "stream",
     "text": [
      "處理 Musical_Instruments: 213593it [01:52, 1895.15it/s]\n"
     ]
    },
    {
     "name": "stdout",
     "output_type": "stream",
     "text": [
      "類別 'Musical_Instruments' 處理完成。此類別找到 1 個匹配的 ProductId。\n",
      "目前累積找到 73 個唯一的匹配 ProductId。\n",
      "已清理類別 'Musical_Instruments' 的資源。\n",
      "\n",
      "--- 開始處理類別: Electronics ---\n",
      "以串流模式載入資料集: raw_meta_Electronics...\n",
      "迭代串流資料集以查找匹配的 parent_asin...\n"
     ]
    },
    {
     "name": "stderr",
     "output_type": "stream",
     "text": [
      "處理 Electronics: 1610012it [14:37, 1833.80it/s]\n"
     ]
    },
    {
     "name": "stdout",
     "output_type": "stream",
     "text": [
      "類別 'Electronics' 處理完成。此類別找到 27 個匹配的 ProductId。\n",
      "目前累積找到 100 個唯一的匹配 ProductId。\n",
      "已清理類別 'Electronics' 的資源。\n",
      "\n",
      "--- 開始處理類別: Handmade_Products ---\n",
      "以串流模式載入資料集: raw_meta_Handmade_Products...\n",
      "迭代串流資料集以查找匹配的 parent_asin...\n"
     ]
    },
    {
     "name": "stderr",
     "output_type": "stream",
     "text": [
      "處理 Handmade_Products: 164817it [01:08, 2404.62it/s]\n"
     ]
    },
    {
     "name": "stdout",
     "output_type": "stream",
     "text": [
      "類別 'Handmade_Products' 處理完成。此類別找到 0 個匹配的 ProductId。\n",
      "目前累積找到 100 個唯一的匹配 ProductId。\n",
      "已清理類別 'Handmade_Products' 的資源。\n",
      "\n",
      "--- 開始處理類別: Arts_Crafts_and_Sewing ---\n",
      "以串流模式載入資料集: raw_meta_Arts_Crafts_and_Sewing...\n",
      "迭代串流資料集以查找匹配的 parent_asin...\n"
     ]
    },
    {
     "name": "stderr",
     "output_type": "stream",
     "text": [
      "處理 Arts_Crafts_and_Sewing: 801446it [06:26, 2075.66it/s]\n"
     ]
    },
    {
     "name": "stdout",
     "output_type": "stream",
     "text": [
      "類別 'Arts_Crafts_and_Sewing' 處理完成。此類別找到 5 個匹配的 ProductId。\n",
      "目前累積找到 105 個唯一的匹配 ProductId。\n",
      "已清理類別 'Arts_Crafts_and_Sewing' 的資源。\n",
      "\n",
      "--- 開始處理類別: Baby_Products ---\n",
      "以串流模式載入資料集: raw_meta_Baby_Products...\n",
      "迭代串流資料集以查找匹配的 parent_asin...\n"
     ]
    },
    {
     "name": "stderr",
     "output_type": "stream",
     "text": [
      "處理 Baby_Products: 217724it [02:01, 1792.28it/s]\n"
     ]
    },
    {
     "name": "stdout",
     "output_type": "stream",
     "text": [
      "類別 'Baby_Products' 處理完成。此類別找到 165 個匹配的 ProductId。\n",
      "目前累積找到 270 個唯一的匹配 ProductId。\n",
      "已清理類別 'Baby_Products' 的資源。\n",
      "\n",
      "--- 開始處理類別: Health_and_Household ---\n",
      "以串流模式載入資料集: raw_meta_Health_and_Household...\n",
      "迭代串流資料集以查找匹配的 parent_asin...\n"
     ]
    },
    {
     "name": "stderr",
     "output_type": "stream",
     "text": [
      "處理 Health_and_Household: 797563it [07:06, 1868.30it/s]\n"
     ]
    },
    {
     "name": "stdout",
     "output_type": "stream",
     "text": [
      "類別 'Health_and_Household' 處理完成。此類別找到 681 個匹配的 ProductId。\n",
      "目前累積找到 951 個唯一的匹配 ProductId。\n",
      "已清理類別 'Health_and_Household' 的資源。\n",
      "\n",
      "--- 開始處理類別: Office_Products ---\n",
      "以串流模式載入資料集: raw_meta_Office_Products...\n",
      "迭代串流資料集以查找匹配的 parent_asin...\n"
     ]
    },
    {
     "name": "stderr",
     "output_type": "stream",
     "text": [
      "處理 Office_Products: 710503it [05:59, 1973.65it/s]\n"
     ]
    },
    {
     "name": "stdout",
     "output_type": "stream",
     "text": [
      "類別 'Office_Products' 處理完成。此類別找到 8 個匹配的 ProductId。\n",
      "目前累積找到 959 個唯一的匹配 ProductId。\n",
      "已清理類別 'Office_Products' 的資源。\n",
      "\n",
      "--- 開始處理類別: Digital_Music ---\n",
      "以串流模式載入資料集: raw_meta_Digital_Music...\n",
      "迭代串流資料集以查找匹配的 parent_asin...\n"
     ]
    },
    {
     "name": "stderr",
     "output_type": "stream",
     "text": [
      "處理 Digital_Music: 70537it [00:13, 5350.41it/s]\n"
     ]
    },
    {
     "name": "stdout",
     "output_type": "stream",
     "text": [
      "類別 'Digital_Music' 處理完成。此類別找到 1 個匹配的 ProductId。\n",
      "目前累積找到 960 個唯一的匹配 ProductId。\n",
      "已清理類別 'Digital_Music' 的資源。\n",
      "\n",
      "--- 開始處理類別: Grocery_and_Gourmet_Food ---\n",
      "以串流模式載入資料集: raw_meta_Grocery_and_Gourmet_Food...\n",
      "迭代串流資料集以查找匹配的 parent_asin...\n"
     ]
    },
    {
     "name": "stderr",
     "output_type": "stream",
     "text": [
      "處理 Grocery_and_Gourmet_Food: 82836it [00:35, 2900.91it/s]"
     ]
    }
   ],
   "source": [
    "import pandas as pd\n",
    "from datasets import load_dataset\n",
    "from tqdm.auto import tqdm # Optional: for progress bar\n",
    "import gc # Garbage Collector\n",
    "\n",
    "\n",
    "# 將我們要查找的本地 ProductId 存儲在一個集合中，以便快速查找\n",
    "# 這一步在迴圈外執行一次即可\n",
    "local_product_ids_set = set(df_b_products['ProductId'])\n",
    "print(f\"已載入 {len(local_product_ids_set)} 個以 'B' 開頭的本地 ProductId 供比對。\")\n",
    "\n",
    "\n",
    "# --- 初始化一個集合來收集所有類別中匹配到的 ProductId ---\n",
    "# 使用集合可以自動處理重複的 ID (如果一個商品在多個類別的 dataset 中都出現)\n",
    "all_matched_product_ids = set()\n",
    "\n",
    "# --- 迭代處理每個類別 ---\n",
    "for category in categories:\n",
    "    category = category.strip()\n",
    "    print(f\"\\n--- 開始處理類別: {category} ---\")\n",
    "    \n",
    "    dataset_stream = None # 初始化變數以確保 finally 子句可以存取\n",
    "    \n",
    "    try:\n",
    "        # 1. 使用串流模式載入資料集\n",
    "        print(f\"以串流模式載入資料集: raw_meta_{category}...\")\n",
    "        dataset_stream = load_dataset(\n",
    "            \"McAuley-Lab/Amazon-Reviews-2023\",\n",
    "            \"raw_meta_\" + category,\n",
    "            split=\"full\",\n",
    "            streaming=True,\n",
    "            trust_remote_code=True\n",
    "        )\n",
    "\n",
    "        # 2. 迭代串流資料集，提取 parent_asin 並查找匹配項\n",
    "        print(\"迭代串流資料集以查找匹配的 parent_asin...\")\n",
    "        \n",
    "        matched_in_this_category = set() # 記錄此類別找到的匹配 ID\n",
    "        processed_count = 0\n",
    "\n",
    "        # 使用 tqdm 顯示進度條 (可選)\n",
    "        for record in tqdm(dataset_stream, desc=f\"處理 {category}\"):\n",
    "            processed_count += 1\n",
    "            # 確保 record 中有 'parent_asin' 鍵且值不是 None\n",
    "            if record and 'parent_asin' in record and record['parent_asin'] is not None:\n",
    "                dataset_asin = str(record['parent_asin']) # 確保是字串\n",
    "\n",
    "                # 如果資料集的 ASIN 存在於我們的本地 ID 集合中\n",
    "                if dataset_asin in local_product_ids_set:\n",
    "                    # 將這個匹配到的 ID 添加到 *總的* 匹配 ID 集合中\n",
    "                    all_matched_product_ids.add(dataset_asin)\n",
    "                    # 也添加到此類別的集合中，用於報告統計信息\n",
    "                    matched_in_this_category.add(dataset_asin)\n",
    "\n",
    "        print(f\"類別 '{category}' 處理完成。此類別找到 {len(matched_in_this_category)} 個匹配的 ProductId。\")\n",
    "        print(f\"目前累積找到 {len(all_matched_product_ids)} 個唯一的匹配 ProductId。\")\n",
    "\n",
    "    except Exception as e:\n",
    "        print(f\"處理類別 '{category}' 時發生錯誤: {e}\")\n",
    "        # 決定是否繼續處理下一個類別\n",
    "        continue # 繼續下一個類別\n",
    "        # break    # 中止迴圈\n",
    "        \n",
    "    finally:\n",
    "        # --- 清理資源 ---\n",
    "        # 關閉可能打開的文件句柄或連接（雖然 datasets 通常會自己管理，但顯式刪除有助於 RAM）\n",
    "        del dataset_stream \n",
    "        gc.collect() # 嘗試觸發垃圾回收以釋放記憶體\n",
    "        print(f\"已清理類別 '{category}' 的資源。\")\n",
    "\n",
    "\n",
    "# --- 所有類別處理完成後 ---\n",
    "print(\"\\n--- 所有類別處理完成 ---\")\n",
    "\n",
    "# 3. 根據收集到的所有匹配 ID，從原始 df_b_products 中篩選最終結果\n",
    "if all_matched_product_ids:\n",
    "    print(f\"總共找到 {len(all_matched_product_ids)} 個唯一的匹配 ProductId。\")\n",
    "    print(\"正在從本地 DataFrame 中篩選最終匹配的商品...\")\n",
    "    \n",
    "    # 使用 isin() 進行高效篩選\n",
    "    final_matched_df = df_b_products[df_b_products['ProductId'].isin(all_matched_product_ids)].copy()\n",
    "    # 再次使用 .copy() 確保我们得到的是獨立的 DataFrame\n",
    "\n",
    "    # 4. 將整合後的匹配結果儲存為單一 CSV 文件\n",
    "    output_filename = \"all_matched_products.csv\"\n",
    "    print(f\"將所有匹配結果 ({len(final_matched_df)} 筆) 儲存到: {output_filename}\")\n",
    "    \n",
    "    try:\n",
    "        final_matched_df.to_csv(output_filename, index=False, encoding='utf-8')\n",
    "        print(\"CSV 文件儲存成功。\")\n",
    "    except Exception as e:\n",
    "        print(f\"儲存 CSV 文件時發生錯誤: {e}\")\n",
    "\n",
    "else:\n",
    "    print(\"在所有處理的類別中，沒有找到任何匹配的商品。\")\n",
    "\n",
    "print(\"\\n--- 腳本執行完畢 ---\")"
   ]
  }
 ],
 "metadata": {
  "kernelspec": {
   "display_name": "mongo",
   "language": "python",
   "name": "python3"
  },
  "language_info": {
   "codemirror_mode": {
    "name": "ipython",
    "version": 3
   },
   "file_extension": ".py",
   "mimetype": "text/x-python",
   "name": "python",
   "nbconvert_exporter": "python",
   "pygments_lexer": "ipython3",
   "version": "3.12.9"
  }
 },
 "nbformat": 4,
 "nbformat_minor": 2
}
